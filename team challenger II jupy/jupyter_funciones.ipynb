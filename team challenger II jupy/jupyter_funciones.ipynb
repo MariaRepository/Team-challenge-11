{
 "cells": [
  {
   "cell_type": "markdown",
   "metadata": {},
   "source": [
    "<img src=\"data/ima/herraa.jpg\" alt=\"Imagen creada con inteligencia artificial y editada con Microsoft Paint\" style=\"border-radius: 15px;\">\n",
    "\n",
    "*Imagen creada con inteligencia artificial y editada con Microsoft Paint*\n"
   ]
  },
  {
   "cell_type": "markdown",
   "metadata": {},
   "source": [
    "## BIBLIOTECAS USADAS:"
   ]
  },
  {
   "cell_type": "code",
   "execution_count": 42,
   "metadata": {},
   "outputs": [],
   "source": [
    "import numpy as np\n",
    "import pandas as pd \n",
    "from scipy.stats import f_oneway"
   ]
  },
  {
   "cell_type": "markdown",
   "metadata": {},
   "source": [
    "## DATASETS DE PRUEBA."
   ]
  },
  {
   "cell_type": "code",
   "execution_count": 39,
   "metadata": {},
   "outputs": [],
   "source": [
    "df1 = pd.read_csv('./data/datasets/lifesat_full.csv', sep=',')\n",
    "df2 = pd.read_csv('./data/datasets/pima_indians.csv', sep=',') #Target 'class'\n",
    "df3 = pd.read_csv('./data/datasets/temps.csv', sep=',')\n",
    "df4 = pd.read_csv('./data/datasets/titanic.csv', sep=',') #Target 'alive'\n",
    "df5 = pd.read_csv('./data/datasets/CarPrice_Assignment.csv', sep=',') # target 'Price... o eso creo.  \n",
    "df6 = pd.read_csv('./data/datasets/bank-full.csv', sep=';') #El target parce que es 'y'  \n",
    "df7 = pd.read_csv('./data/datasets/dataset_viajes_jun23.csv', sep=',') #El target, 'aircompany' por ejemplo."
   ]
  },
  {
   "cell_type": "markdown",
   "metadata": {},
   "source": [
    "## Funcion: get_features_num_classification"
   ]
  },
  {
   "cell_type": "code",
   "execution_count": null,
   "metadata": {},
   "outputs": [],
   "source": [
    "def get_features_num_classification(df, target_col, pvalue= 0.05): \n",
    "    columnas_numericas = []\n",
    "    if isinstance(df, pd.DataFrame):\n",
    "        print(f\"{df} es un DataFrame\")\n",
    "    else:\n",
    "        print(f\"{df} no es un dataframe, repase la llamada a la función\")\n",
    "        return \n",
    "\n",
    "    if target_col not in df.columns:\n",
    "        print(f\"{target_col} no es una columna del dataframe {df}\")\n",
    "        return\n",
    "    \n",
    "    tipos_validos = ['category', 'int64', 'bool', 'object']\n",
    "    if not pd.api.types.is_dtype_equal(df[target_col], tipos_validos):\n",
    "        print(f\"La columna '{target_col}' no es categórica ni disteta, revisa la llamada a la funcion.\")\n",
    "        return \n",
    "    \n",
    "    if pd.api.types.is_integer_dtype(df[target_col]) and df[target_col].nunique() >= 15:\n",
    "        print(f\"¡OJO!.. La columna '{target_col}' tiene alta cardinalidad (> 15 categorías).\")\n",
    "\n",
    "    for col in df.columns:\n",
    "        if pd.api.types.is_numeric_dtype(df[col]):\n",
    "            columnas_numericas.append(col)\n",
    " "
   ]
  }
 ],
 "metadata": {
  "kernelspec": {
   "display_name": "Python 3",
   "language": "python",
   "name": "python3"
  },
  "language_info": {
   "codemirror_mode": {
    "name": "ipython",
    "version": 3
   },
   "file_extension": ".py",
   "mimetype": "text/x-python",
   "name": "python",
   "nbconvert_exporter": "python",
   "pygments_lexer": "ipython3",
   "version": "3.12.3"
  }
 },
 "nbformat": 4,
 "nbformat_minor": 2
}
